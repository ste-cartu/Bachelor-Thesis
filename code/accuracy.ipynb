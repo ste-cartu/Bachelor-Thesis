{
 "cells": [
  {
   "cell_type": "markdown",
   "metadata": {},
   "source": [
    "# Test di precisione dei vari modelli\n",
    "Per una serie di parametri: \n",
    "* Grafico l'errore del modello: $(x_{CLASS} - x_{PySR})^2$\n",
    "* Stampo la loss: $\\dfrac{(x_{CLASS} - x_{PySR})^2}{N}$\n"
   ]
  },
  {
   "cell_type": "code",
   "execution_count": 1,
   "metadata": {},
   "outputs": [],
   "source": [
    "import numpy as np\n",
    "from pysr import PySRRegressor\n",
    "from matplotlib import pyplot as plt\n",
    "# from importlib import reload\n",
    "# from classy import Class\n",
    "# import functions as f\n",
    "# import sys"
   ]
  },
  {
   "cell_type": "code",
   "execution_count": 8,
   "metadata": {},
   "outputs": [],
   "source": [
    "nm = 10\n",
    "nk = 100\n",
    "nz = 20\n",
    "\n",
    "ni = 100\n",
    "comp = 20\n",
    "pop = 15"
   ]
  },
  {
   "cell_type": "code",
   "execution_count": 9,
   "metadata": {},
   "outputs": [
    {
     "name": "stdout",
     "output_type": "stream",
     "text": [
      "Checking if ../models/mu(100,20,15).pkl exists...\n",
      "Loading model from ../models/mu(100,20,15).pkl\n",
      "\n",
      "Loss: 7.399908584888165e-06\n"
     ]
    },
    {
     "data": {
      "text/plain": [
       "'\\nx = np.linspace(0, nm*nk*nz, nm*nk*nz)\\nplt.plot(x, (data[:,3] - model.predict(data[:,:3])**2))\\nplt.show()\\n'"
      ]
     },
     "execution_count": 9,
     "metadata": {},
     "output_type": "execute_result"
    }
   ],
   "source": [
    "data = np.load('../files/data_[' + str(nm) + ',' + str(nk) + ',' + str(nz) + '].npy')\n",
    "model = PySRRegressor().from_file('../models/mu(' +str(ni)+ ',' +str(comp)+ ',' +str(pop)+ ').pkl')\n",
    "\n",
    "loss = np.sum((data[:,3] - model.predict(data[:,:3]))**2) / (nm*nk*nz)\n",
    "print('\\nLoss:', loss)\n",
    "'''\n",
    "x = np.linspace(0, nm*nk*nz, nm*nk*nz)\n",
    "plt.plot(x, (data[:,3] - model.predict(data[:,:3])**2))\n",
    "plt.show()\n",
    "'''"
   ]
  },
  {
   "cell_type": "code",
   "execution_count": 4,
   "metadata": {},
   "outputs": [],
   "source": [
    "nm = 10\n",
    "nk = 100\n",
    "nz = 20\n",
    "\n",
    "ni = 1000\n",
    "comp = 20\n",
    "pop = 15"
   ]
  },
  {
   "cell_type": "code",
   "execution_count": 5,
   "metadata": {},
   "outputs": [
    {
     "name": "stdout",
     "output_type": "stream",
     "text": [
      "Checking if ../models/mu(1000,20,15).pkl exists...\n",
      "Loading model from ../models/mu(1000,20,15).pkl\n",
      "\n",
      "Loss: 8.43019507088197e-07\n"
     ]
    },
    {
     "data": {
      "text/plain": [
       "'\\nx = np.linspace(0, nm*nk*nz, nm*nk*nz)\\nplt.plot(x, (data[:,3] - model.predict(data[:,:3])**2))\\nplt.show()\\n'"
      ]
     },
     "execution_count": 5,
     "metadata": {},
     "output_type": "execute_result"
    }
   ],
   "source": [
    "data = np.load('../files/data_[' + str(nm) + ',' + str(nk) + ',' + str(nz) + '].npy')\n",
    "model = PySRRegressor().from_file('../models/mu(' +str(ni)+ ',' +str(comp)+ ',' +str(pop)+ ').pkl')\n",
    "\n",
    "loss = np.sum((data[:,3] - model.predict(data[:,:3]))**2) / (nm*nk*nz)\n",
    "print('\\nLoss:', loss)\n",
    "'''\n",
    "x = np.linspace(0, nm*nk*nz, nm*nk*nz)\n",
    "plt.plot(x, (data[:,3] - model.predict(data[:,:3])**2))\n",
    "plt.show()\n",
    "'''"
   ]
  },
  {
   "cell_type": "code",
   "execution_count": 6,
   "metadata": {},
   "outputs": [],
   "source": [
    "nm = 10\n",
    "nk = 100\n",
    "nz = 20\n",
    "\n",
    "ni = 1000\n",
    "comp = 20\n",
    "pop = 30"
   ]
  },
  {
   "cell_type": "code",
   "execution_count": 7,
   "metadata": {},
   "outputs": [
    {
     "name": "stdout",
     "output_type": "stream",
     "text": [
      "Checking if ../models/mu(1000,20,30).pkl exists...\n",
      "Loading model from ../models/mu(1000,20,30).pkl\n",
      "\n",
      "Loss: 1.5121776696395098e-06\n"
     ]
    },
    {
     "data": {
      "text/plain": [
       "'\\nx = np.linspace(0, nm*nk*nz, nm*nk*nz)\\nplt.plot(x, (data[:,3] - model.predict(data[:,:3])**2))\\nplt.show()\\n'"
      ]
     },
     "execution_count": 7,
     "metadata": {},
     "output_type": "execute_result"
    }
   ],
   "source": [
    "data = np.load('../files/data_[' + str(nm) + ',' + str(nk) + ',' + str(nz) + '].npy')\n",
    "model = PySRRegressor().from_file('../models/mu(' +str(ni)+ ',' +str(comp)+ ',' +str(pop)+ ').pkl')\n",
    "\n",
    "loss = np.sum((data[:,3] - model.predict(data[:,:3]))**2) / (nm*nk*nz)\n",
    "print('\\nLoss:', loss)\n",
    "'''\n",
    "x = np.linspace(0, nm*nk*nz, nm*nk*nz)\n",
    "plt.plot(x, (data[:,3] - model.predict(data[:,:3])**2))\n",
    "plt.show()\n",
    "'''"
   ]
  },
  {
   "cell_type": "code",
   "execution_count": 10,
   "metadata": {},
   "outputs": [],
   "source": [
    "nm = 10\n",
    "nk = 100\n",
    "nz = 20\n",
    "\n",
    "ni = 1000\n",
    "comp = 30\n",
    "pop = 20"
   ]
  },
  {
   "cell_type": "code",
   "execution_count": 13,
   "metadata": {},
   "outputs": [
    {
     "name": "stdout",
     "output_type": "stream",
     "text": [
      "Checking if ../models/mu(1000,30,20).pkl exists...\n",
      "../models/mu(1000,30,20).pkl does not exist, so we must create the model from scratch.\n"
     ]
    },
    {
     "ename": "AssertionError",
     "evalue": "",
     "output_type": "error",
     "traceback": [
      "\u001b[0;31m---------------------------------------------------------------------------\u001b[0m",
      "\u001b[0;31mAssertionError\u001b[0m                            Traceback (most recent call last)",
      "Cell \u001b[0;32mIn[13], line 2\u001b[0m\n\u001b[1;32m      1\u001b[0m data \u001b[38;5;241m=\u001b[39m np\u001b[38;5;241m.\u001b[39mload(\u001b[38;5;124m'\u001b[39m\u001b[38;5;124m../files/data_[\u001b[39m\u001b[38;5;124m'\u001b[39m \u001b[38;5;241m+\u001b[39m \u001b[38;5;28mstr\u001b[39m(nm) \u001b[38;5;241m+\u001b[39m \u001b[38;5;124m'\u001b[39m\u001b[38;5;124m,\u001b[39m\u001b[38;5;124m'\u001b[39m \u001b[38;5;241m+\u001b[39m \u001b[38;5;28mstr\u001b[39m(nk) \u001b[38;5;241m+\u001b[39m \u001b[38;5;124m'\u001b[39m\u001b[38;5;124m,\u001b[39m\u001b[38;5;124m'\u001b[39m \u001b[38;5;241m+\u001b[39m \u001b[38;5;28mstr\u001b[39m(nz) \u001b[38;5;241m+\u001b[39m \u001b[38;5;124m'\u001b[39m\u001b[38;5;124m].npy\u001b[39m\u001b[38;5;124m'\u001b[39m)\n\u001b[0;32m----> 2\u001b[0m model \u001b[38;5;241m=\u001b[39m \u001b[43mPySRRegressor\u001b[49m\u001b[43m(\u001b[49m\u001b[43m)\u001b[49m\u001b[38;5;241;43m.\u001b[39;49m\u001b[43mfrom_file\u001b[49m\u001b[43m(\u001b[49m\u001b[38;5;124;43m'\u001b[39;49m\u001b[38;5;124;43m../models/mu(\u001b[39;49m\u001b[38;5;124;43m'\u001b[39;49m\u001b[43m \u001b[49m\u001b[38;5;241;43m+\u001b[39;49m\u001b[38;5;28;43mstr\u001b[39;49m\u001b[43m(\u001b[49m\u001b[43mni\u001b[49m\u001b[43m)\u001b[49m\u001b[38;5;241;43m+\u001b[39;49m\u001b[43m \u001b[49m\u001b[38;5;124;43m'\u001b[39;49m\u001b[38;5;124;43m,\u001b[39;49m\u001b[38;5;124;43m'\u001b[39;49m\u001b[43m \u001b[49m\u001b[38;5;241;43m+\u001b[39;49m\u001b[38;5;28;43mstr\u001b[39;49m\u001b[43m(\u001b[49m\u001b[43mcomp\u001b[49m\u001b[43m)\u001b[49m\u001b[38;5;241;43m+\u001b[39;49m\u001b[43m \u001b[49m\u001b[38;5;124;43m'\u001b[39;49m\u001b[38;5;124;43m,\u001b[39;49m\u001b[38;5;124;43m'\u001b[39;49m\u001b[43m \u001b[49m\u001b[38;5;241;43m+\u001b[39;49m\u001b[38;5;28;43mstr\u001b[39;49m\u001b[43m(\u001b[49m\u001b[43mpop\u001b[49m\u001b[43m)\u001b[49m\u001b[38;5;241;43m+\u001b[39;49m\u001b[43m \u001b[49m\u001b[38;5;124;43m'\u001b[39;49m\u001b[38;5;124;43m).pkl\u001b[39;49m\u001b[38;5;124;43m'\u001b[39;49m\u001b[43m)\u001b[49m\n\u001b[1;32m      4\u001b[0m loss \u001b[38;5;241m=\u001b[39m np\u001b[38;5;241m.\u001b[39msum((data[:,\u001b[38;5;241m3\u001b[39m] \u001b[38;5;241m-\u001b[39m model\u001b[38;5;241m.\u001b[39mpredict(data[:,:\u001b[38;5;241m3\u001b[39m]))\u001b[38;5;241m*\u001b[39m\u001b[38;5;241m*\u001b[39m\u001b[38;5;241m2\u001b[39m) \u001b[38;5;241m/\u001b[39m (nm\u001b[38;5;241m*\u001b[39mnk\u001b[38;5;241m*\u001b[39mnz)\n\u001b[1;32m      5\u001b[0m \u001b[38;5;28mprint\u001b[39m(\u001b[38;5;124m'\u001b[39m\u001b[38;5;130;01m\\n\u001b[39;00m\u001b[38;5;124mLoss:\u001b[39m\u001b[38;5;124m'\u001b[39m, loss)\n",
      "File \u001b[0;32m/opt/homebrew/lib/python3.11/site-packages/pysr/sr.py:945\u001b[0m, in \u001b[0;36mPySRRegressor.from_file\u001b[0;34m(cls, equation_file, binary_operators, unary_operators, n_features_in, feature_names_in, selection_mask, nout, **pysr_kwargs)\u001b[0m\n\u001b[1;32m    940\u001b[0m \u001b[38;5;66;03m# Else, we re-create it.\u001b[39;00m\n\u001b[1;32m    941\u001b[0m \u001b[38;5;28mprint\u001b[39m(\n\u001b[1;32m    942\u001b[0m     \u001b[38;5;124mf\u001b[39m\u001b[38;5;124m\"\u001b[39m\u001b[38;5;132;01m{\u001b[39;00mpkl_filename\u001b[38;5;132;01m}\u001b[39;00m\u001b[38;5;124m does not exist, \u001b[39m\u001b[38;5;124m\"\u001b[39m\n\u001b[1;32m    943\u001b[0m     \u001b[38;5;124m\"\u001b[39m\u001b[38;5;124mso we must create the model from scratch.\u001b[39m\u001b[38;5;124m\"\u001b[39m\n\u001b[1;32m    944\u001b[0m )\n\u001b[0;32m--> 945\u001b[0m \u001b[38;5;28;01massert\u001b[39;00m binary_operators \u001b[38;5;129;01mis\u001b[39;00m \u001b[38;5;129;01mnot\u001b[39;00m \u001b[38;5;28;01mNone\u001b[39;00m \u001b[38;5;129;01mor\u001b[39;00m unary_operators \u001b[38;5;129;01mis\u001b[39;00m \u001b[38;5;129;01mnot\u001b[39;00m \u001b[38;5;28;01mNone\u001b[39;00m\n\u001b[1;32m    946\u001b[0m \u001b[38;5;28;01massert\u001b[39;00m n_features_in \u001b[38;5;129;01mis\u001b[39;00m \u001b[38;5;129;01mnot\u001b[39;00m \u001b[38;5;28;01mNone\u001b[39;00m\n\u001b[1;32m    948\u001b[0m \u001b[38;5;66;03m# TODO: copy .bkup file if exists.\u001b[39;00m\n",
      "\u001b[0;31mAssertionError\u001b[0m: "
     ]
    }
   ],
   "source": [
    "data = np.load('../files/data_[' + str(nm) + ',' + str(nk) + ',' + str(nz) + '].npy')\n",
    "model = PySRRegressor().from_file('../models/mu(' +str(ni)+ ',' +str(comp)+ ',' +str(pop)+ ').pkl')\n",
    "\n",
    "loss = np.sum((data[:,3] - model.predict(data[:,:3]))**2) / (nm*nk*nz)\n",
    "print('\\nLoss:', loss)\n",
    "'''\n",
    "x = np.linspace(0, nm*nk*nz, nm*nk*nz)\n",
    "plt.plot(x, (data[:,3] - model.predict(data[:,:3])**2))\n",
    "plt.show()\n",
    "'''"
   ]
  },
  {
   "cell_type": "code",
   "execution_count": 14,
   "metadata": {},
   "outputs": [],
   "source": [
    "nm = 10\n",
    "nk = 100\n",
    "nz = 20\n",
    "\n",
    "ni = 1000\n",
    "comp = 40\n",
    "pop = 15"
   ]
  },
  {
   "cell_type": "code",
   "execution_count": 15,
   "metadata": {},
   "outputs": [
    {
     "name": "stdout",
     "output_type": "stream",
     "text": [
      "Checking if ../models/mu(1000,40,15).pkl exists...\n",
      "Loading model from ../models/mu(1000,40,15).pkl\n",
      "\n",
      "Loss: 6.598375287122565e-07\n"
     ]
    },
    {
     "data": {
      "text/plain": [
       "'\\nx = np.linspace(0, nm*nk*nz, nm*nk*nz)\\nplt.plot(x, (data[:,3] - model.predict(data[:,:3])**2))\\nplt.show()\\n'"
      ]
     },
     "execution_count": 15,
     "metadata": {},
     "output_type": "execute_result"
    }
   ],
   "source": [
    "data = np.load('../files/data_[' + str(nm) + ',' + str(nk) + ',' + str(nz) + '].npy')\n",
    "model = PySRRegressor().from_file('../models/mu(' +str(ni)+ ',' +str(comp)+ ',' +str(pop)+ ').pkl')\n",
    "\n",
    "loss = np.sum((data[:,3] - model.predict(data[:,:3]))**2) / (nm*nk*nz)\n",
    "print('\\nLoss:', loss)\n",
    "'''\n",
    "x = np.linspace(0, nm*nk*nz, nm*nk*nz)\n",
    "plt.plot(x, (data[:,3] - model.predict(data[:,:3])**2))\n",
    "plt.show()\n",
    "'''"
   ]
  },
  {
   "cell_type": "code",
   "execution_count": 16,
   "metadata": {},
   "outputs": [],
   "source": [
    "nm = 10\n",
    "nk = 100\n",
    "nz = 20\n",
    "\n",
    "ni = 5000\n",
    "comp = 20\n",
    "pop = 15"
   ]
  },
  {
   "cell_type": "code",
   "execution_count": 17,
   "metadata": {},
   "outputs": [
    {
     "name": "stdout",
     "output_type": "stream",
     "text": [
      "Checking if ../models/mu(5000,20,15).pkl exists...\n",
      "Loading model from ../models/mu(5000,20,15).pkl\n",
      "\n",
      "Loss: 1.2438648312513368e-06\n"
     ]
    },
    {
     "data": {
      "text/plain": [
       "'\\nx = np.linspace(0, nm*nk*nz, nm*nk*nz)\\nplt.plot(x, (data[:,3] - model.predict(data[:,:3])**2))\\nplt.show()\\n'"
      ]
     },
     "execution_count": 17,
     "metadata": {},
     "output_type": "execute_result"
    }
   ],
   "source": [
    "data = np.load('../files/data_[' + str(nm) + ',' + str(nk) + ',' + str(nz) + '].npy')\n",
    "model = PySRRegressor().from_file('../models/mu(' +str(ni)+ ',' +str(comp)+ ',' +str(pop)+ ').pkl')\n",
    "\n",
    "loss = np.sum((data[:,3] - model.predict(data[:,:3]))**2) / (nm*nk*nz)\n",
    "print('\\nLoss:', loss)\n",
    "'''\n",
    "x = np.linspace(0, nm*nk*nz, nm*nk*nz)\n",
    "plt.plot(x, (data[:,3] - model.predict(data[:,:3])**2))\n",
    "plt.show()\n",
    "'''"
   ]
  },
  {
   "cell_type": "code",
   "execution_count": 18,
   "metadata": {},
   "outputs": [
    {
     "data": {
      "text/html": [
       "<style>#sk-container-id-1 {color: black;}#sk-container-id-1 pre{padding: 0;}#sk-container-id-1 div.sk-toggleable {background-color: white;}#sk-container-id-1 label.sk-toggleable__label {cursor: pointer;display: block;width: 100%;margin-bottom: 0;padding: 0.3em;box-sizing: border-box;text-align: center;}#sk-container-id-1 label.sk-toggleable__label-arrow:before {content: \"▸\";float: left;margin-right: 0.25em;color: #696969;}#sk-container-id-1 label.sk-toggleable__label-arrow:hover:before {color: black;}#sk-container-id-1 div.sk-estimator:hover label.sk-toggleable__label-arrow:before {color: black;}#sk-container-id-1 div.sk-toggleable__content {max-height: 0;max-width: 0;overflow: hidden;text-align: left;background-color: #f0f8ff;}#sk-container-id-1 div.sk-toggleable__content pre {margin: 0.2em;color: black;border-radius: 0.25em;background-color: #f0f8ff;}#sk-container-id-1 input.sk-toggleable__control:checked~div.sk-toggleable__content {max-height: 200px;max-width: 100%;overflow: auto;}#sk-container-id-1 input.sk-toggleable__control:checked~label.sk-toggleable__label-arrow:before {content: \"▾\";}#sk-container-id-1 div.sk-estimator input.sk-toggleable__control:checked~label.sk-toggleable__label {background-color: #d4ebff;}#sk-container-id-1 div.sk-label input.sk-toggleable__control:checked~label.sk-toggleable__label {background-color: #d4ebff;}#sk-container-id-1 input.sk-hidden--visually {border: 0;clip: rect(1px 1px 1px 1px);clip: rect(1px, 1px, 1px, 1px);height: 1px;margin: -1px;overflow: hidden;padding: 0;position: absolute;width: 1px;}#sk-container-id-1 div.sk-estimator {font-family: monospace;background-color: #f0f8ff;border: 1px dotted black;border-radius: 0.25em;box-sizing: border-box;margin-bottom: 0.5em;}#sk-container-id-1 div.sk-estimator:hover {background-color: #d4ebff;}#sk-container-id-1 div.sk-parallel-item::after {content: \"\";width: 100%;border-bottom: 1px solid gray;flex-grow: 1;}#sk-container-id-1 div.sk-label:hover label.sk-toggleable__label {background-color: #d4ebff;}#sk-container-id-1 div.sk-serial::before {content: \"\";position: absolute;border-left: 1px solid gray;box-sizing: border-box;top: 0;bottom: 0;left: 50%;z-index: 0;}#sk-container-id-1 div.sk-serial {display: flex;flex-direction: column;align-items: center;background-color: white;padding-right: 0.2em;padding-left: 0.2em;position: relative;}#sk-container-id-1 div.sk-item {position: relative;z-index: 1;}#sk-container-id-1 div.sk-parallel {display: flex;align-items: stretch;justify-content: center;background-color: white;position: relative;}#sk-container-id-1 div.sk-item::before, #sk-container-id-1 div.sk-parallel-item::before {content: \"\";position: absolute;border-left: 1px solid gray;box-sizing: border-box;top: 0;bottom: 0;left: 50%;z-index: -1;}#sk-container-id-1 div.sk-parallel-item {display: flex;flex-direction: column;z-index: 1;position: relative;background-color: white;}#sk-container-id-1 div.sk-parallel-item:first-child::after {align-self: flex-end;width: 50%;}#sk-container-id-1 div.sk-parallel-item:last-child::after {align-self: flex-start;width: 50%;}#sk-container-id-1 div.sk-parallel-item:only-child::after {width: 0;}#sk-container-id-1 div.sk-dashed-wrapped {border: 1px dashed gray;margin: 0 0.4em 0.5em 0.4em;box-sizing: border-box;padding-bottom: 0.4em;background-color: white;}#sk-container-id-1 div.sk-label label {font-family: monospace;font-weight: bold;display: inline-block;line-height: 1.2em;}#sk-container-id-1 div.sk-label-container {text-align: center;}#sk-container-id-1 div.sk-container {/* jupyter's `normalize.less` sets `[hidden] { display: none; }` but bootstrap.min.css set `[hidden] { display: none !important; }` so we also need the `!important` here to be able to override the default hidden behavior on the sphinx rendered scikit-learn.org. See: https://github.com/scikit-learn/scikit-learn/issues/21755 */display: inline-block !important;position: relative;}#sk-container-id-1 div.sk-text-repr-fallback {display: none;}</style><div id=\"sk-container-id-1\" class=\"sk-top-container\"><div class=\"sk-text-repr-fallback\"><pre>PySRRegressor.equations_ = [\n",
       "\t    pick         score                                           equation  \\\n",
       "\t0         0.000000e+00                                          0.9833947   \n",
       "\t1         2.188195e-07                                   exp(-0.01674378)   \n",
       "\t2         4.320420e-01                                   (0.9684399 ^ x0)   \n",
       "\t3         2.973085e-01                            (0.9879097 ^ (x0 * x2))   \n",
       "\t4         2.545348e-07                      (exp(-0.012163718 * x2) ^ x0)   \n",
       "\t5         5.249010e-01                   (((x1 ^ 0.002389808) ^ x0) ^ x2)   \n",
       "\t6         6.758357e-01               ((0.98551375 ^ (x0 / exp(x1))) ^ x2)   \n",
       "\t7         9.970804e-01    ((0.98391664 ^ (0.035195027 ^ x1)) ^ (x2 * x0))   \n",
       "\t8         1.604708e-01        ((0.98391664 ^ x2) ^ (x0 / (exp(x2) ^ x1)))   \n",
       "\t9         3.284533e-01  ((0.9855397 ^ (0.035195027 ^ x1)) ^ ((x2 + 0.4...   \n",
       "\t10        3.311753e-01  ((0.98339915 ^ (((0.004118008 ^ x1) * (x2 * 1....   \n",
       "\t11  &gt;&gt;&gt;&gt;  5.099391e-01  ((0.9833812 ^ (((0.023133544 ^ (x1 / x0)) * x2...   \n",
       "\t12        7.126619e-02  ((0.9833812 ^ (((0.023133544 ^ (x1 / x0)) * x2...   \n",
       "\t13        9.582261e-03  ((0.9833947 ^ (((0.023133544 ^ (x1 / x0)) * x2...   \n",
       "\t\n",
       "\t        loss  complexity  \n",
       "\t0   0.000274           1  \n",
       "\t1   0.000274           2  \n",
       "\t2   0.000178           3  \n",
       "\t3   0.000098           5  \n",
       "\t4   0.000098           6  \n",
       "\t5   0.000058           7  \n",
       "\t6   0.000030           8  \n",
       "\t7   0.000011           9  \n",
       "\t8   0.000009          10  \n",
       "\t9   0.000007          11  \n",
       "\t10  0.000003          13  \n",
       "\t11  0.000001          15  \n",
       "\t12  0.000001          17  \n",
       "\t13  0.000001          19  \n",
       "]</pre><b>In a Jupyter environment, please rerun this cell to show the HTML representation or trust the notebook. <br />On GitHub, the HTML representation is unable to render, please try loading this page with nbviewer.org.</b></div><div class=\"sk-container\" hidden><div class=\"sk-item\"><div class=\"sk-estimator sk-toggleable\"><input class=\"sk-toggleable__control sk-hidden--visually\" id=\"sk-estimator-id-1\" type=\"checkbox\" checked><label for=\"sk-estimator-id-1\" class=\"sk-toggleable__label sk-toggleable__label-arrow\">PySRRegressor</label><div class=\"sk-toggleable__content\"><pre>PySRRegressor.equations_ = [\n",
       "\t    pick         score                                           equation  \\\n",
       "\t0         0.000000e+00                                          0.9833947   \n",
       "\t1         2.188195e-07                                   exp(-0.01674378)   \n",
       "\t2         4.320420e-01                                   (0.9684399 ^ x0)   \n",
       "\t3         2.973085e-01                            (0.9879097 ^ (x0 * x2))   \n",
       "\t4         2.545348e-07                      (exp(-0.012163718 * x2) ^ x0)   \n",
       "\t5         5.249010e-01                   (((x1 ^ 0.002389808) ^ x0) ^ x2)   \n",
       "\t6         6.758357e-01               ((0.98551375 ^ (x0 / exp(x1))) ^ x2)   \n",
       "\t7         9.970804e-01    ((0.98391664 ^ (0.035195027 ^ x1)) ^ (x2 * x0))   \n",
       "\t8         1.604708e-01        ((0.98391664 ^ x2) ^ (x0 / (exp(x2) ^ x1)))   \n",
       "\t9         3.284533e-01  ((0.9855397 ^ (0.035195027 ^ x1)) ^ ((x2 + 0.4...   \n",
       "\t10        3.311753e-01  ((0.98339915 ^ (((0.004118008 ^ x1) * (x2 * 1....   \n",
       "\t11  &gt;&gt;&gt;&gt;  5.099391e-01  ((0.9833812 ^ (((0.023133544 ^ (x1 / x0)) * x2...   \n",
       "\t12        7.126619e-02  ((0.9833812 ^ (((0.023133544 ^ (x1 / x0)) * x2...   \n",
       "\t13        9.582261e-03  ((0.9833947 ^ (((0.023133544 ^ (x1 / x0)) * x2...   \n",
       "\t\n",
       "\t        loss  complexity  \n",
       "\t0   0.000274           1  \n",
       "\t1   0.000274           2  \n",
       "\t2   0.000178           3  \n",
       "\t3   0.000098           5  \n",
       "\t4   0.000098           6  \n",
       "\t5   0.000058           7  \n",
       "\t6   0.000030           8  \n",
       "\t7   0.000011           9  \n",
       "\t8   0.000009          10  \n",
       "\t9   0.000007          11  \n",
       "\t10  0.000003          13  \n",
       "\t11  0.000001          15  \n",
       "\t12  0.000001          17  \n",
       "\t13  0.000001          19  \n",
       "]</pre></div></div></div></div></div>"
      ],
      "text/plain": [
       "PySRRegressor.equations_ = [\n",
       "\t    pick         score                                           equation  \\\n",
       "\t0         0.000000e+00                                          0.9833947   \n",
       "\t1         2.188195e-07                                   exp(-0.01674378)   \n",
       "\t2         4.320420e-01                                   (0.9684399 ^ x0)   \n",
       "\t3         2.973085e-01                            (0.9879097 ^ (x0 * x2))   \n",
       "\t4         2.545348e-07                      (exp(-0.012163718 * x2) ^ x0)   \n",
       "\t5         5.249010e-01                   (((x1 ^ 0.002389808) ^ x0) ^ x2)   \n",
       "\t6         6.758357e-01               ((0.98551375 ^ (x0 / exp(x1))) ^ x2)   \n",
       "\t7         9.970804e-01    ((0.98391664 ^ (0.035195027 ^ x1)) ^ (x2 * x0))   \n",
       "\t8         1.604708e-01        ((0.98391664 ^ x2) ^ (x0 / (exp(x2) ^ x1)))   \n",
       "\t9         3.284533e-01  ((0.9855397 ^ (0.035195027 ^ x1)) ^ ((x2 + 0.4...   \n",
       "\t10        3.311753e-01  ((0.98339915 ^ (((0.004118008 ^ x1) * (x2 * 1....   \n",
       "\t11  >>>>  5.099391e-01  ((0.9833812 ^ (((0.023133544 ^ (x1 / x0)) * x2...   \n",
       "\t12        7.126619e-02  ((0.9833812 ^ (((0.023133544 ^ (x1 / x0)) * x2...   \n",
       "\t13        9.582261e-03  ((0.9833947 ^ (((0.023133544 ^ (x1 / x0)) * x2...   \n",
       "\t\n",
       "\t        loss  complexity  \n",
       "\t0   0.000274           1  \n",
       "\t1   0.000274           2  \n",
       "\t2   0.000178           3  \n",
       "\t3   0.000098           5  \n",
       "\t4   0.000098           6  \n",
       "\t5   0.000058           7  \n",
       "\t6   0.000030           8  \n",
       "\t7   0.000011           9  \n",
       "\t8   0.000009          10  \n",
       "\t9   0.000007          11  \n",
       "\t10  0.000003          13  \n",
       "\t11  0.000001          15  \n",
       "\t12  0.000001          17  \n",
       "\t13  0.000001          19  \n",
       "]"
      ]
     },
     "execution_count": 18,
     "metadata": {},
     "output_type": "execute_result"
    }
   ],
   "source": [
    "model"
   ]
  },
  {
   "cell_type": "code",
   "execution_count": 19,
   "metadata": {},
   "outputs": [
    {
     "data": {
      "text/plain": [
       "complexity                                                      15\n",
       "loss                                                      0.000001\n",
       "score                                                     0.509939\n",
       "equation         ((0.9833812 ^ (((0.023133544 ^ (x1 / x0)) * x2...\n",
       "sympy_format     (0.9833812**((0.023133544**(x1/x0)*x2)**0.6636...\n",
       "lambda_format    PySRFunction(X=>(0.9833812**((0.023133544**(x1...\n",
       "Name: 11, dtype: object"
      ]
     },
     "execution_count": 19,
     "metadata": {},
     "output_type": "execute_result"
    }
   ],
   "source": [
    "model.get_best()"
   ]
  },
  {
   "cell_type": "code",
   "execution_count": 20,
   "metadata": {},
   "outputs": [
    {
     "data": {
      "text/plain": [
       "1.2438652e-06"
      ]
     },
     "execution_count": 20,
     "metadata": {},
     "output_type": "execute_result"
    }
   ],
   "source": [
    "model.get_best()['loss']"
   ]
  },
  {
   "cell_type": "code",
   "execution_count": 21,
   "metadata": {},
   "outputs": [],
   "source": [
    "nm = 10\n",
    "nk = 100\n",
    "nz = 20\n",
    "\n",
    "ni = 10000\n",
    "comp = 50\n",
    "pop = 50"
   ]
  },
  {
   "cell_type": "code",
   "execution_count": 22,
   "metadata": {},
   "outputs": [
    {
     "name": "stdout",
     "output_type": "stream",
     "text": [
      "Checking if ../models/mu(10000,50,50).pkl exists...\n",
      "../models/mu(10000,50,50).pkl does not exist, so we must create the model from scratch.\n"
     ]
    },
    {
     "ename": "AssertionError",
     "evalue": "",
     "output_type": "error",
     "traceback": [
      "\u001b[0;31m---------------------------------------------------------------------------\u001b[0m",
      "\u001b[0;31mAssertionError\u001b[0m                            Traceback (most recent call last)",
      "Cell \u001b[0;32mIn[22], line 2\u001b[0m\n\u001b[1;32m      1\u001b[0m data \u001b[38;5;241m=\u001b[39m np\u001b[38;5;241m.\u001b[39mload(\u001b[38;5;124m'\u001b[39m\u001b[38;5;124m../files/data_[\u001b[39m\u001b[38;5;124m'\u001b[39m \u001b[38;5;241m+\u001b[39m \u001b[38;5;28mstr\u001b[39m(nm) \u001b[38;5;241m+\u001b[39m \u001b[38;5;124m'\u001b[39m\u001b[38;5;124m,\u001b[39m\u001b[38;5;124m'\u001b[39m \u001b[38;5;241m+\u001b[39m \u001b[38;5;28mstr\u001b[39m(nk) \u001b[38;5;241m+\u001b[39m \u001b[38;5;124m'\u001b[39m\u001b[38;5;124m,\u001b[39m\u001b[38;5;124m'\u001b[39m \u001b[38;5;241m+\u001b[39m \u001b[38;5;28mstr\u001b[39m(nz) \u001b[38;5;241m+\u001b[39m \u001b[38;5;124m'\u001b[39m\u001b[38;5;124m].npy\u001b[39m\u001b[38;5;124m'\u001b[39m)\n\u001b[0;32m----> 2\u001b[0m model \u001b[38;5;241m=\u001b[39m \u001b[43mPySRRegressor\u001b[49m\u001b[43m(\u001b[49m\u001b[43m)\u001b[49m\u001b[38;5;241;43m.\u001b[39;49m\u001b[43mfrom_file\u001b[49m\u001b[43m(\u001b[49m\u001b[38;5;124;43m'\u001b[39;49m\u001b[38;5;124;43m../models/mu(\u001b[39;49m\u001b[38;5;124;43m'\u001b[39;49m\u001b[43m \u001b[49m\u001b[38;5;241;43m+\u001b[39;49m\u001b[38;5;28;43mstr\u001b[39;49m\u001b[43m(\u001b[49m\u001b[43mni\u001b[49m\u001b[43m)\u001b[49m\u001b[38;5;241;43m+\u001b[39;49m\u001b[43m \u001b[49m\u001b[38;5;124;43m'\u001b[39;49m\u001b[38;5;124;43m,\u001b[39;49m\u001b[38;5;124;43m'\u001b[39;49m\u001b[43m \u001b[49m\u001b[38;5;241;43m+\u001b[39;49m\u001b[38;5;28;43mstr\u001b[39;49m\u001b[43m(\u001b[49m\u001b[43mcomp\u001b[49m\u001b[43m)\u001b[49m\u001b[38;5;241;43m+\u001b[39;49m\u001b[43m \u001b[49m\u001b[38;5;124;43m'\u001b[39;49m\u001b[38;5;124;43m,\u001b[39;49m\u001b[38;5;124;43m'\u001b[39;49m\u001b[43m \u001b[49m\u001b[38;5;241;43m+\u001b[39;49m\u001b[38;5;28;43mstr\u001b[39;49m\u001b[43m(\u001b[49m\u001b[43mpop\u001b[49m\u001b[43m)\u001b[49m\u001b[38;5;241;43m+\u001b[39;49m\u001b[43m \u001b[49m\u001b[38;5;124;43m'\u001b[39;49m\u001b[38;5;124;43m).pkl\u001b[39;49m\u001b[38;5;124;43m'\u001b[39;49m\u001b[43m)\u001b[49m\n\u001b[1;32m      4\u001b[0m loss \u001b[38;5;241m=\u001b[39m np\u001b[38;5;241m.\u001b[39msum((data[:,\u001b[38;5;241m3\u001b[39m] \u001b[38;5;241m-\u001b[39m model\u001b[38;5;241m.\u001b[39mpredict(data[:,:\u001b[38;5;241m3\u001b[39m]))\u001b[38;5;241m*\u001b[39m\u001b[38;5;241m*\u001b[39m\u001b[38;5;241m2\u001b[39m) \u001b[38;5;241m/\u001b[39m (nm\u001b[38;5;241m*\u001b[39mnk\u001b[38;5;241m*\u001b[39mnz)\n\u001b[1;32m      5\u001b[0m \u001b[38;5;28mprint\u001b[39m(\u001b[38;5;124m'\u001b[39m\u001b[38;5;130;01m\\n\u001b[39;00m\u001b[38;5;124mLoss:\u001b[39m\u001b[38;5;124m'\u001b[39m, loss)\n",
      "File \u001b[0;32m/opt/homebrew/lib/python3.11/site-packages/pysr/sr.py:945\u001b[0m, in \u001b[0;36mPySRRegressor.from_file\u001b[0;34m(cls, equation_file, binary_operators, unary_operators, n_features_in, feature_names_in, selection_mask, nout, **pysr_kwargs)\u001b[0m\n\u001b[1;32m    940\u001b[0m \u001b[38;5;66;03m# Else, we re-create it.\u001b[39;00m\n\u001b[1;32m    941\u001b[0m \u001b[38;5;28mprint\u001b[39m(\n\u001b[1;32m    942\u001b[0m     \u001b[38;5;124mf\u001b[39m\u001b[38;5;124m\"\u001b[39m\u001b[38;5;132;01m{\u001b[39;00mpkl_filename\u001b[38;5;132;01m}\u001b[39;00m\u001b[38;5;124m does not exist, \u001b[39m\u001b[38;5;124m\"\u001b[39m\n\u001b[1;32m    943\u001b[0m     \u001b[38;5;124m\"\u001b[39m\u001b[38;5;124mso we must create the model from scratch.\u001b[39m\u001b[38;5;124m\"\u001b[39m\n\u001b[1;32m    944\u001b[0m )\n\u001b[0;32m--> 945\u001b[0m \u001b[38;5;28;01massert\u001b[39;00m binary_operators \u001b[38;5;129;01mis\u001b[39;00m \u001b[38;5;129;01mnot\u001b[39;00m \u001b[38;5;28;01mNone\u001b[39;00m \u001b[38;5;129;01mor\u001b[39;00m unary_operators \u001b[38;5;129;01mis\u001b[39;00m \u001b[38;5;129;01mnot\u001b[39;00m \u001b[38;5;28;01mNone\u001b[39;00m\n\u001b[1;32m    946\u001b[0m \u001b[38;5;28;01massert\u001b[39;00m n_features_in \u001b[38;5;129;01mis\u001b[39;00m \u001b[38;5;129;01mnot\u001b[39;00m \u001b[38;5;28;01mNone\u001b[39;00m\n\u001b[1;32m    948\u001b[0m \u001b[38;5;66;03m# TODO: copy .bkup file if exists.\u001b[39;00m\n",
      "\u001b[0;31mAssertionError\u001b[0m: "
     ]
    }
   ],
   "source": [
    "data = np.load('../files/data_[' + str(nm) + ',' + str(nk) + ',' + str(nz) + '].npy')\n",
    "model = PySRRegressor().from_file('../models/mu(' +str(ni)+ ',' +str(comp)+ ',' +str(pop)+ ').pkl')\n",
    "\n",
    "loss = np.sum((data[:,3] - model.predict(data[:,:3]))**2) / (nm*nk*nz)\n",
    "print('\\nLoss:', loss)\n",
    "print(model.get_best()['loss'])\n",
    "\n",
    "'''\n",
    "x = np.linspace(0, nm*nk*nz, nm*nk*nz)\n",
    "plt.plot(x, (data[:,3] - model.predict(data[:,:3])**2))\n",
    "plt.show()\n",
    "'''"
   ]
  },
  {
   "cell_type": "code",
   "execution_count": 23,
   "metadata": {},
   "outputs": [
    {
     "data": {
      "text/plain": [
       "array([ 15,  30,  45,  60,  75,  90, 105, 120, 135, 150, 165, 180, 195,\n",
       "       210, 225, 240, 255, 270, 285])"
      ]
     },
     "execution_count": 23,
     "metadata": {},
     "output_type": "execute_result"
    }
   ],
   "source": [
    "np.linspace(15, 285, 19).astype(int)"
   ]
  },
  {
   "cell_type": "code",
   "execution_count": 24,
   "metadata": {},
   "outputs": [
    {
     "name": "stdout",
     "output_type": "stream",
     "text": [
      "Checking if ../models/mu(1000,20,15).pkl exists...\n",
      "Loading model from ../models/mu(1000,20,15).pkl\n",
      "Checking if ../models/mu(2000,20,15).pkl exists...\n",
      "Loading model from ../models/mu(2000,20,15).pkl\n",
      "Checking if ../models/mu(3000,20,15).pkl exists...\n",
      "Loading model from ../models/mu(3000,20,15).pkl\n",
      "Checking if ../models/mu(4000,20,15).pkl exists...\n",
      "Loading model from ../models/mu(4000,20,15).pkl\n",
      "Checking if ../models/mu(5000,20,15).pkl exists...\n",
      "Loading model from ../models/mu(5000,20,15).pkl\n",
      "Checking if ../models/mu(6000,20,15).pkl exists...\n",
      "Loading model from ../models/mu(6000,20,15).pkl\n",
      "Checking if ../models/mu(7000,20,15).pkl exists...\n",
      "Loading model from ../models/mu(7000,20,15).pkl\n",
      "Checking if ../models/mu(8000,20,15).pkl exists...\n",
      "Loading model from ../models/mu(8000,20,15).pkl\n",
      "Checking if ../models/mu(9000,20,15).pkl exists...\n",
      "Loading model from ../models/mu(9000,20,15).pkl\n",
      "Checking if ../models/mu(10000,20,15).pkl exists...\n",
      "Loading model from ../models/mu(10000,20,15).pkl\n",
      "Checking if ../models/mu(11000,20,15).pkl exists...\n",
      "Loading model from ../models/mu(11000,20,15).pkl\n",
      "Checking if ../models/mu(12000,20,15).pkl exists...\n",
      "Loading model from ../models/mu(12000,20,15).pkl\n",
      "Checking if ../models/mu(13000,20,15).pkl exists...\n",
      "Loading model from ../models/mu(13000,20,15).pkl\n",
      "Checking if ../models/mu(14000,20,15).pkl exists...\n",
      "Loading model from ../models/mu(14000,20,15).pkl\n",
      "Checking if ../models/mu(15000,20,15).pkl exists...\n",
      "Loading model from ../models/mu(15000,20,15).pkl\n",
      "Checking if ../models/mu(16000,20,15).pkl exists...\n",
      "Loading model from ../models/mu(16000,20,15).pkl\n",
      "Checking if ../models/mu(17000,20,15).pkl exists...\n",
      "Loading model from ../models/mu(17000,20,15).pkl\n",
      "Checking if ../models/mu(18000,20,15).pkl exists...\n",
      "Loading model from ../models/mu(18000,20,15).pkl\n",
      "Checking if ../models/mu(19000,20,15).pkl exists...\n",
      "Loading model from ../models/mu(19000,20,15).pkl\n",
      "Checking if ../models/mu(20000,20,15).pkl exists...\n",
      "Loading model from ../models/mu(20000,20,15).pkl\n",
      "Checking if ../models/mu(1000,20,15).pkl exists...\n",
      "Loading model from ../models/mu(1000,20,15).pkl\n",
      "Checking if ../models/mu(1000,24,15).pkl exists...\n",
      "Loading model from ../models/mu(1000,24,15).pkl\n",
      "Checking if ../models/mu(1000,28,15).pkl exists...\n",
      "Loading model from ../models/mu(1000,28,15).pkl\n",
      "Checking if ../models/mu(1000,32,15).pkl exists...\n",
      "Loading model from ../models/mu(1000,32,15).pkl\n",
      "Checking if ../models/mu(1000,36,15).pkl exists...\n",
      "Loading model from ../models/mu(1000,36,15).pkl\n",
      "Checking if ../models/mu(1000,40,15).pkl exists...\n",
      "Loading model from ../models/mu(1000,40,15).pkl\n",
      "Checking if ../models/mu(1000,44,15).pkl exists...\n",
      "Loading model from ../models/mu(1000,44,15).pkl\n",
      "Checking if ../models/mu(1000,48,15).pkl exists...\n",
      "Loading model from ../models/mu(1000,48,15).pkl\n",
      "Checking if ../models/mu(1000,52,15).pkl exists...\n",
      "Loading model from ../models/mu(1000,52,15).pkl\n",
      "Checking if ../models/mu(1000,56,15).pkl exists...\n",
      "Loading model from ../models/mu(1000,56,15).pkl\n",
      "Checking if ../models/mu(1000,60,15).pkl exists...\n",
      "Loading model from ../models/mu(1000,60,15).pkl\n",
      "Checking if ../models/mu(1000,64,15).pkl exists...\n",
      "Loading model from ../models/mu(1000,64,15).pkl\n",
      "Checking if ../models/mu(1000,68,15).pkl exists...\n",
      "Loading model from ../models/mu(1000,68,15).pkl\n",
      "Checking if ../models/mu(1000,72,15).pkl exists...\n",
      "Loading model from ../models/mu(1000,72,15).pkl\n",
      "Checking if ../models/mu(1000,76,15).pkl exists...\n",
      "Loading model from ../models/mu(1000,76,15).pkl\n",
      "Checking if ../models/mu(1000,80,15).pkl exists...\n",
      "Loading model from ../models/mu(1000,80,15).pkl\n",
      "Checking if ../models/mu(1000,84,15).pkl exists...\n",
      "Loading model from ../models/mu(1000,84,15).pkl\n",
      "Checking if ../models/mu(1000,88,15).pkl exists...\n",
      "Loading model from ../models/mu(1000,88,15).pkl\n",
      "Checking if ../models/mu(1000,92,15).pkl exists...\n",
      "Loading model from ../models/mu(1000,92,15).pkl\n",
      "Checking if ../models/mu(1000,96,15).pkl exists...\n",
      "Loading model from ../models/mu(1000,96,15).pkl\n",
      "Checking if ../models/mu(1000,100,15).pkl exists...\n",
      "Loading model from ../models/mu(1000,100,15).pkl\n",
      "Checking if ../models/mu(1000,20,15).pkl exists...\n",
      "Loading model from ../models/mu(1000,20,15).pkl\n",
      "Checking if ../models/mu(1000,20,30).pkl exists...\n",
      "Loading model from ../models/mu(1000,20,30).pkl\n",
      "Checking if ../models/mu(1000,20,45).pkl exists...\n",
      "Loading model from ../models/mu(1000,20,45).pkl\n",
      "Checking if ../models/mu(1000,20,60).pkl exists...\n",
      "Loading model from ../models/mu(1000,20,60).pkl\n",
      "Checking if ../models/mu(1000,20,75).pkl exists...\n",
      "Loading model from ../models/mu(1000,20,75).pkl\n",
      "Checking if ../models/mu(1000,20,90).pkl exists...\n",
      "Loading model from ../models/mu(1000,20,90).pkl\n",
      "Checking if ../models/mu(1000,20,105).pkl exists...\n",
      "Loading model from ../models/mu(1000,20,105).pkl\n",
      "Checking if ../models/mu(1000,20,120).pkl exists...\n",
      "Loading model from ../models/mu(1000,20,120).pkl\n",
      "Checking if ../models/mu(1000,20,135).pkl exists...\n",
      "Loading model from ../models/mu(1000,20,135).pkl\n",
      "Checking if ../models/mu(1000,20,150).pkl exists...\n",
      "Loading model from ../models/mu(1000,20,150).pkl\n",
      "Checking if ../models/mu(1000,20,165).pkl exists...\n",
      "Loading model from ../models/mu(1000,20,165).pkl\n",
      "Checking if ../models/mu(1000,20,180).pkl exists...\n",
      "Loading model from ../models/mu(1000,20,180).pkl\n",
      "Checking if ../models/mu(1000,20,195).pkl exists...\n",
      "Loading model from ../models/mu(1000,20,195).pkl\n",
      "Checking if ../models/mu(1000,20,210).pkl exists...\n",
      "Loading model from ../models/mu(1000,20,210).pkl\n",
      "Checking if ../models/mu(1000,20,225).pkl exists...\n",
      "Loading model from ../models/mu(1000,20,225).pkl\n",
      "Checking if ../models/mu(1000,20,240).pkl exists...\n",
      "Loading model from ../models/mu(1000,20,240).pkl\n",
      "Checking if ../models/mu(1000,20,255).pkl exists...\n",
      "Loading model from ../models/mu(1000,20,255).pkl\n",
      "Checking if ../models/mu(1000,20,270).pkl exists...\n",
      "Loading model from ../models/mu(1000,20,270).pkl\n",
      "Checking if ../models/mu(1000,20,285).pkl exists...\n",
      "Loading model from ../models/mu(1000,20,285).pkl\n",
      "Checking if ../models/mu(1000,20,300).pkl exists...\n",
      "Loading model from ../models/mu(1000,20,300).pkl\n"
     ]
    },
    {
     "data": {
      "image/png": "[encoded data removed]",
      "text/plain": [
       "<Figure size 1500x400 with 3 Axes>"
      ]
     },
     "metadata": {},
     "output_type": "display_data"
    }
   ],
   "source": [
    "fig, axs = plt.subplots(1, 3, figsize=(15, 4), gridspec_kw={'hspace': 0.3, 'wspace': 0.3})\n",
    "\n",
    "iter = np.linspace(1000, 20000, 20).astype(int)\n",
    "loss_it = []\n",
    "for ni in iter :\n",
    "    model = PySRRegressor().from_file('../models/mu(' + str(ni) + ',20,15).pkl')\n",
    "    loss_it.append(model.get_best()['loss'])\n",
    "\n",
    "comple = np.linspace(20, 100, 21).astype(int)\n",
    "loss_comp = []\n",
    "for comp in comple :\n",
    "    model = PySRRegressor().from_file('../models/mu(1000,' + str(comp) + ',15).pkl')\n",
    "    loss_comp.append(model.get_best()['loss'])\n",
    "\n",
    "popul = np.linspace(15, 300, 20).astype(int)\n",
    "loss_pop = []\n",
    "for pop in popul :\n",
    "    model = PySRRegressor().from_file('../models/mu(1000,20,' + str(pop) + ').pkl')\n",
    "    loss_pop.append(model.get_best()['loss'])\n",
    "\n",
    "\n",
    "\n",
    "axs[0].plot(iter, loss_it)\n",
    "axs[0].set_xlabel('iterazioni modello')\n",
    "axs[0].set_ylabel('loss')\n",
    "\n",
    "axs[1].plot(comple, loss_comp)\n",
    "axs[1].set_xlabel('complessità modello')\n",
    "axs[1].set_ylabel('loss')\n",
    "\n",
    "axs[2].plot(popul, loss_pop)\n",
    "axs[2].set_xlabel('popolazioni modello')\n",
    "axs[2].set_ylabel('loss')\n",
    "\n",
    "plt.show()"
   ]
  },
  {
   "cell_type": "code",
   "execution_count": null,
   "metadata": {},
   "outputs": [],
   "source": []
  }
 ],
 "metadata": {
  "kernelspec": {
   "display_name": "Python 3",
   "language": "python",
   "name": "python3"
  },
  "language_info": {
   "codemirror_mode": {
    "name": "ipython",
    "version": 3
   },
   "file_extension": ".py",
   "mimetype": "text/x-python",
   "name": "python",
   "nbconvert_exporter": "python",
   "pygments_lexer": "ipython3",
   "version": "3.11.6"
  }
 },
 "nbformat": 4,
 "nbformat_minor": 2
}
